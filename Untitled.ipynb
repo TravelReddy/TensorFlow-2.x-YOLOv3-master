{
 "cells": [
  {
   "cell_type": "code",
   "execution_count": 1,
   "metadata": {},
   "outputs": [],
   "source": [
    "import cv2\n",
    "import os"
   ]
  },
  {
   "cell_type": "code",
   "execution_count": 2,
   "metadata": {},
   "outputs": [],
   "source": [
    "for i in os.listdir(\"./guage_images/\"):\n",
    "    img = cv2.imread('./guage_images/'+i)\n",
    "    img = cv2.resize(img,(400,500))\n",
    "    cv2.imwrite('./guage_images/'+i,img)"
   ]
  },
  {
   "cell_type": "code",
   "execution_count": 3,
   "metadata": {},
   "outputs": [
    {
     "name": "stdout",
     "output_type": "stream",
     "text": [
      "(500, 400, 3)\n",
      "(500, 400, 3)\n",
      "(500, 400, 3)\n",
      "(500, 400, 3)\n",
      "(500, 400, 3)\n",
      "(500, 400, 3)\n"
     ]
    }
   ],
   "source": [
    "for i in os.listdir(\"./guage_images/\"):\n",
    "    img = cv2.imread('./guage_images/'+i)\n",
    "    print(img.shape)"
   ]
  },
  {
   "cell_type": "code",
   "execution_count": null,
   "metadata": {},
   "outputs": [],
   "source": []
  }
 ],
 "metadata": {
  "kernelspec": {
   "display_name": "Python 3",
   "language": "python",
   "name": "python3"
  },
  "language_info": {
   "codemirror_mode": {
    "name": "ipython",
    "version": 3
   },
   "file_extension": ".py",
   "mimetype": "text/x-python",
   "name": "python",
   "nbconvert_exporter": "python",
   "pygments_lexer": "ipython3",
   "version": "3.8.3"
  }
 },
 "nbformat": 4,
 "nbformat_minor": 4
}
